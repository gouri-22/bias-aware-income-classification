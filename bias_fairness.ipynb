{
  "nbformat": 4,
  "nbformat_minor": 0,
  "metadata": {
    "colab": {
      "provenance": [],
      "authorship_tag": "ABX9TyOLDAPWp8ZT+iwsLZIquoAW",
      "include_colab_link": true
    },
    "kernelspec": {
      "name": "python3",
      "display_name": "Python 3"
    },
    "language_info": {
      "name": "python"
    }
  },
  "cells": [
    {
      "cell_type": "markdown",
      "metadata": {
        "id": "view-in-github",
        "colab_type": "text"
      },
      "source": [
        "<a href=\"https://colab.research.google.com/github/gouri-22/bias-aware-income-classification/blob/main/bias_fairness.ipynb\" target=\"_parent\"><img src=\"https://colab.research.google.com/assets/colab-badge.svg\" alt=\"Open In Colab\"/></a>"
      ]
    },
    {
      "cell_type": "code",
      "execution_count": 5,
      "metadata": {
        "id": "9MT8ZmDD4eSF"
      },
      "outputs": [],
      "source": [
        "import pandas as pd\n",
        "import numpy as np\n",
        "from fairlearn.datasets import fetch_adult\n",
        "from sklearn.model_selection import train_test_split\n",
        "from sklearn.linear_model import LogisticRegression\n",
        "from sklearn.preprocessing import OneHotEncoder, StandardScaler\n",
        "from sklearn.decomposition import PCA\n",
        "from sklearn.metrics import accuracy_score, classification_report\n",
        "from fairlearn.metrics import MetricFrame, selection_rate, demographic_parity_difference\n",
        "from fairlearn.postprocessing import ThresholdOptimizer\n",
        "from fairlearn.reductions import ExponentiatedGradient, DemographicParity"
      ]
    },
    {
      "cell_type": "code",
      "source": [
        "!pip install fairlearn"
      ],
      "metadata": {
        "colab": {
          "base_uri": "https://localhost:8080/"
        },
        "id": "29ziKdh1vPrp",
        "outputId": "e4def8c6-9788-4b63-964f-2102160dff7d"
      },
      "execution_count": 4,
      "outputs": [
        {
          "output_type": "stream",
          "name": "stdout",
          "text": [
            "Collecting fairlearn\n",
            "  Downloading fairlearn-0.12.0-py3-none-any.whl.metadata (7.0 kB)\n",
            "Requirement already satisfied: numpy>=1.24.4 in /usr/local/lib/python3.11/dist-packages (from fairlearn) (2.0.2)\n",
            "Requirement already satisfied: pandas>=2.0.3 in /usr/local/lib/python3.11/dist-packages (from fairlearn) (2.2.2)\n",
            "Requirement already satisfied: scikit-learn>=1.2.1 in /usr/local/lib/python3.11/dist-packages (from fairlearn) (1.6.1)\n",
            "Requirement already satisfied: scipy>=1.9.3 in /usr/local/lib/python3.11/dist-packages (from fairlearn) (1.15.3)\n",
            "Requirement already satisfied: python-dateutil>=2.8.2 in /usr/local/lib/python3.11/dist-packages (from pandas>=2.0.3->fairlearn) (2.9.0.post0)\n",
            "Requirement already satisfied: pytz>=2020.1 in /usr/local/lib/python3.11/dist-packages (from pandas>=2.0.3->fairlearn) (2025.2)\n",
            "Requirement already satisfied: tzdata>=2022.7 in /usr/local/lib/python3.11/dist-packages (from pandas>=2.0.3->fairlearn) (2025.2)\n",
            "Requirement already satisfied: joblib>=1.2.0 in /usr/local/lib/python3.11/dist-packages (from scikit-learn>=1.2.1->fairlearn) (1.5.1)\n",
            "Requirement already satisfied: threadpoolctl>=3.1.0 in /usr/local/lib/python3.11/dist-packages (from scikit-learn>=1.2.1->fairlearn) (3.6.0)\n",
            "Requirement already satisfied: six>=1.5 in /usr/local/lib/python3.11/dist-packages (from python-dateutil>=2.8.2->pandas>=2.0.3->fairlearn) (1.17.0)\n",
            "Downloading fairlearn-0.12.0-py3-none-any.whl (240 kB)\n",
            "\u001b[2K   \u001b[90m━━━━━━━━━━━━━━━━━━━━━━━━━━━━━━━━━━━━━━━━\u001b[0m \u001b[32m240.0/240.0 kB\u001b[0m \u001b[31m5.7 MB/s\u001b[0m eta \u001b[36m0:00:00\u001b[0m\n",
            "\u001b[?25hInstalling collected packages: fairlearn\n",
            "Successfully installed fairlearn-0.12.0\n"
          ]
        }
      ]
    },
    {
      "cell_type": "code",
      "source": [
        "data = fetch_adult(as_frame=True)\n",
        "X_raw = data.data.copy()\n",
        "y = data.target"
      ],
      "metadata": {
        "id": "IvEkw4tk655m"
      },
      "execution_count": 8,
      "outputs": []
    },
    {
      "cell_type": "code",
      "source": [
        "X_raw.replace(\"?\", np.nan, inplace=True)\n",
        "X_raw.dropna(inplace=True)\n",
        "y = y[X_raw.index]"
      ],
      "metadata": {
        "id": "ezL3vRvRXVQh"
      },
      "execution_count": 9,
      "outputs": []
    },
    {
      "cell_type": "code",
      "source": [
        "categorical_cols = X_raw.select_dtypes(include='object').columns\n",
        "numeric_cols = ['age', 'fnlwgt', 'education-num', 'capital-gain', 'capital-loss', 'hours-per-week']"
      ],
      "metadata": {
        "id": "04w8CTqFwNy-"
      },
      "execution_count": 14,
      "outputs": []
    },
    {
      "cell_type": "code",
      "source": [
        "encoder = OneHotEncoder(sparse_output=False, handle_unknown='ignore')\n",
        "X_encoded = encoder.fit_transform(X_raw[categorical_cols])\n",
        "X_encoded_df = pd.DataFrame(X_encoded, columns=encoder.get_feature_names_out(categorical_cols))"
      ],
      "metadata": {
        "id": "bu-zrAfEwRiG"
      },
      "execution_count": 15,
      "outputs": []
    },
    {
      "cell_type": "code",
      "source": [
        "scaler = StandardScaler()\n",
        "X_scaled = scaler.fit_transform(X_raw[numeric_cols])\n",
        "X_scaled_df = pd.DataFrame(X_scaled, columns=numeric_cols)\n",
        "\n",
        "X_preprocessed = pd.concat([X_scaled_df.reset_index(drop=True), X_encoded_df.reset_index(drop=True)], axis=1)"
      ],
      "metadata": {
        "id": "IY9BDAFVxDq-"
      },
      "execution_count": 16,
      "outputs": []
    },
    {
      "cell_type": "code",
      "source": [
        "# PCA\n",
        "n_components = min(10, X_preprocessed.shape[1])\n",
        "pca = PCA(n_components=n_components)\n",
        "X_reduced = pca.fit_transform(X_preprocessed)"
      ],
      "metadata": {
        "id": "jy0i4OBDxXmP"
      },
      "execution_count": 18,
      "outputs": []
    },
    {
      "cell_type": "code",
      "source": [
        "y = y.map({'>50K': 1, '<=50K': 0})"
      ],
      "metadata": {
        "id": "BqFcM6GkyTFc"
      },
      "execution_count": 25,
      "outputs": []
    },
    {
      "cell_type": "code",
      "source": [
        "# Train/test split\n",
        "X_train, X_test, y_train, y_test, idx_train, idx_test = train_test_split(X_reduced, y, X_raw.index, test_size=0.3, stratify=y, random_state=42)\n",
        "sensitive_train = X_raw.loc[idx_train, 'sex']\n",
        "sensitive_test = X_raw.loc[idx_test, 'sex']"
      ],
      "metadata": {
        "id": "ZqREHdDSxmzS"
      },
      "execution_count": 26,
      "outputs": []
    },
    {
      "cell_type": "code",
      "source": [
        "# Train baseline model\n",
        "model = LogisticRegression(max_iter=500)\n",
        "model.fit(X_train, y_train)\n",
        "y_pred = model.predict(X_test)"
      ],
      "metadata": {
        "id": "szVso8FAxsRJ"
      },
      "execution_count": 27,
      "outputs": []
    },
    {
      "cell_type": "code",
      "source": [
        "print(\"Accuracy:\", accuracy_score(y_test, y_pred))\n",
        "print(classification_report(y_test, y_pred))"
      ],
      "metadata": {
        "colab": {
          "base_uri": "https://localhost:8080/"
        },
        "id": "e-8Yc3KIxxVr",
        "outputId": "f69cf117-1108-4cdf-e5c1-3595921b9f0e"
      },
      "execution_count": 28,
      "outputs": [
        {
          "output_type": "stream",
          "name": "stdout",
          "text": [
            "Accuracy: 0.8063683938969558\n",
            "              precision    recall  f1-score   support\n",
            "\n",
            "           0       0.82      0.95      0.88     10205\n",
            "           1       0.70      0.38      0.49      3362\n",
            "\n",
            "    accuracy                           0.81     13567\n",
            "   macro avg       0.76      0.66      0.69     13567\n",
            "weighted avg       0.79      0.81      0.78     13567\n",
            "\n"
          ]
        }
      ]
    },
    {
      "cell_type": "code",
      "source": [
        "metric_frame = MetricFrame(\n",
        "    metrics={'accuracy': accuracy_score, 'selection_rate': selection_rate},\n",
        "    y_true=y_test,\n",
        "    y_pred=y_pred,\n",
        "    sensitive_features=sensitive_test\n",
        ")\n",
        "print(metric_frame.by_group)"
      ],
      "metadata": {
        "colab": {
          "base_uri": "https://localhost:8080/"
        },
        "id": "7sbbBmHmx3ap",
        "outputId": "cc57df65-faa3-42b9-b60e-b781099c3cc9"
      },
      "execution_count": 29,
      "outputs": [
        {
          "output_type": "stream",
          "name": "stdout",
          "text": [
            "        accuracy  selection_rate\n",
            "sex                             \n",
            "Female  0.884798          0.0829\n",
            "Male    0.768381          0.1593\n"
          ]
        }
      ]
    },
    {
      "cell_type": "code",
      "source": [
        "dp_gap = demographic_parity_difference(y_test, y_pred, sensitive_features=sensitive_test)\n",
        "print(\"Demographic Parity Difference:\", dp_gap)"
      ],
      "metadata": {
        "colab": {
          "base_uri": "https://localhost:8080/"
        },
        "id": "uJcgOyZ8x6ce",
        "outputId": "9ea5c72f-4eba-43e8-f0ea-3992840b4b87"
      },
      "execution_count": 30,
      "outputs": [
        {
          "output_type": "stream",
          "name": "stdout",
          "text": [
            "Demographic Parity Difference: 0.07639939717439087\n"
          ]
        }
      ]
    },
    {
      "cell_type": "code",
      "source": [
        "# Fairness mitigation - ThresholdOptimizer\n",
        "postproc = ThresholdOptimizer(estimator=model, constraints=\"demographic_parity\", prefit=True)\n",
        "postproc.fit(X_train, y_train, sensitive_features=sensitive_train)\n",
        "y_pred_post = postproc.predict(X_test, sensitive_features=sensitive_test)"
      ],
      "metadata": {
        "id": "LmciZUPdyCrr"
      },
      "execution_count": 31,
      "outputs": []
    },
    {
      "cell_type": "code",
      "source": [
        "dp_post = demographic_parity_difference(y_test, y_pred_post, sensitive_features=sensitive_test)\n",
        "acc_post = accuracy_score(y_test, y_pred_post)\n",
        "print(\"Post-mitigation Accuracy:\", acc_post)\n",
        "print(\"Post-mitigation Demographic Parity Difference:\", dp_post)"
      ],
      "metadata": {
        "colab": {
          "base_uri": "https://localhost:8080/"
        },
        "id": "Etj4x3KDyZaf",
        "outputId": "3ddab4c6-77f1-4ac7-9e07-973601b1892a"
      },
      "execution_count": 32,
      "outputs": [
        {
          "output_type": "stream",
          "name": "stdout",
          "text": [
            "Post-mitigation Accuracy: 0.7947224883909486\n",
            "Post-mitigation Demographic Parity Difference: 0.016935489850178356\n"
          ]
        }
      ]
    },
    {
      "cell_type": "code",
      "source": [
        "#Fairness mitigation-ExponentiatedGradient\n",
        "expgrad = ExponentiatedGradient(LogisticRegression(), constraints=DemographicParity())\n",
        "expgrad.fit(X_train, y_train, sensitive_features=sensitive_train)\n",
        "y_pred_exp = expgrad.predict(X_test)\n",
        "\n",
        "dp_exp = demographic_parity_difference(y_test, y_pred_exp, sensitive_features=sensitive_test)\n",
        "acc_exp = accuracy_score(y_test, y_pred_exp)\n",
        "print(\"Exponentiated Gradient Accuracy:\", acc_exp)\n",
        "print(\"Exponentiated Gradient Demographic Parity Difference:\", dp_exp)"
      ],
      "metadata": {
        "colab": {
          "base_uri": "https://localhost:8080/"
        },
        "id": "DqR65WrSyao-",
        "outputId": "93f783d1-2c09-4633-f7bb-77d4ca6ba738"
      },
      "execution_count": 33,
      "outputs": [
        {
          "output_type": "stream",
          "name": "stdout",
          "text": [
            "Exponentiated Gradient Accuracy: 0.7715043856416304\n",
            "Exponentiated Gradient Demographic Parity Difference: 0.003094943056310015\n"
          ]
        }
      ]
    }
  ]
}